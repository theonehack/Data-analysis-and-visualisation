{
 "cells": [
  {
   "cell_type": "code",
   "execution_count": 1,
   "id": "a6013a6f",
   "metadata": {},
   "outputs": [
    {
     "ename": "NameError",
     "evalue": "name 'pRint' is not defined",
     "output_type": "error",
     "traceback": [
      "\u001b[0;31m---------------------------------------------------------------------------\u001b[0m",
      "\u001b[0;31mNameError\u001b[0m                                 Traceback (most recent call last)",
      "Cell \u001b[0;32mIn[1], line 1\u001b[0m\n\u001b[0;32m----> 1\u001b[0m \u001b[43mpRint\u001b[49m(\u001b[38;5;124m\"\u001b[39m\u001b[38;5;124mkhawar\u001b[39m\u001b[38;5;124m\"\u001b[39m)\n",
      "\u001b[0;31mNameError\u001b[0m: name 'pRint' is not defined"
     ]
    }
   ],
   "source": [
    "pRint(\"khawar\")"
   ]
  },
  {
   "cell_type": "code",
   "execution_count": 2,
   "id": "deffba3c",
   "metadata": {},
   "outputs": [
    {
     "name": "stdout",
     "output_type": "stream",
     "text": [
      "51\n"
     ]
    }
   ],
   "source": [
    "print(49^2)\n"
   ]
  },
  {
   "cell_type": "code",
   "execution_count": 5,
   "id": "ba0f5320",
   "metadata": {},
   "outputs": [
    {
     "ename": "NameError",
     "evalue": "name 'math' is not defined",
     "output_type": "error",
     "traceback": [
      "\u001b[0;31m---------------------------------------------------------------------------\u001b[0m",
      "\u001b[0;31mNameError\u001b[0m                                 Traceback (most recent call last)",
      "Cell \u001b[0;32mIn[5], line 1\u001b[0m\n\u001b[0;32m----> 1\u001b[0m \u001b[38;5;28mprint\u001b[39m(\u001b[43mmath\u001b[49m\u001b[38;5;241m.\u001b[39msqrt(\u001b[38;5;241m49\u001b[39m))\n",
      "\u001b[0;31mNameError\u001b[0m: name 'math' is not defined"
     ]
    }
   ],
   "source": [
    "print(math.sqrt(49))\n"
   ]
  },
  {
   "cell_type": "code",
   "execution_count": 4,
   "id": "fe670e10",
   "metadata": {},
   "outputs": [
    {
     "name": "stdout",
     "output_type": "stream",
     "text": [
      "7.0\n"
     ]
    }
   ],
   "source": [
    "print(49**(1/2))"
   ]
  },
  {
   "cell_type": "code",
   "execution_count": 6,
   "id": "856b2024",
   "metadata": {},
   "outputs": [
    {
     "ename": "SyntaxError",
     "evalue": "invalid syntax (2845367096.py, line 1)",
     "output_type": "error",
     "traceback": [
      "\u001b[0;36m  Cell \u001b[0;32mIn[6], line 1\u001b[0;36m\u001b[0m\n\u001b[0;31m    my name is khawar\u001b[0m\n\u001b[0m       ^\u001b[0m\n\u001b[0;31mSyntaxError\u001b[0m\u001b[0;31m:\u001b[0m invalid syntax\n"
     ]
    }
   ],
   "source": [
    "my name is khawar"
   ]
  },
  {
   "cell_type": "code",
   "execution_count": 7,
   "id": "8b0bbbfe",
   "metadata": {},
   "outputs": [],
   "source": [
    "#my name is khawar"
   ]
  },
  {
   "cell_type": "code",
   "execution_count": 8,
   "id": "c5e15112",
   "metadata": {},
   "outputs": [
    {
     "data": {
      "text/plain": [
       "'my name is khawar'"
      ]
     },
     "execution_count": 8,
     "metadata": {},
     "output_type": "execute_result"
    }
   ],
   "source": [
    "\"my name is khawar\""
   ]
  },
  {
   "cell_type": "code",
   "execution_count": 1,
   "id": "873cad1d",
   "metadata": {},
   "outputs": [
    {
     "name": "stdout",
     "output_type": "stream",
     "text": [
      "hellow world\n",
      "world is wow \n"
     ]
    }
   ],
   "source": [
    "print(\"hellow world\")\n",
    "print(\"world is wow \")"
   ]
  },
  {
   "cell_type": "code",
   "execution_count": 15,
   "id": "d36cde9a",
   "metadata": {},
   "outputs": [
    {
     "name": "stdout",
     "output_type": "stream",
     "text": [
      "hellow world world is wow\n"
     ]
    }
   ],
   "source": [
    "print(\"hellow world\", \"world is wow\")\n"
   ]
  },
  {
   "cell_type": "code",
   "execution_count": 17,
   "id": "819f04b0",
   "metadata": {
    "scrolled": true
   },
   "outputs": [
    {
     "name": "stdout",
     "output_type": "stream",
     "text": [
      "c:\n",
      " khawar\n"
     ]
    }
   ],
   "source": [
    "print(\"c: \\n khawar\")"
   ]
  },
  {
   "cell_type": "code",
   "execution_count": 21,
   "id": "df461f10",
   "metadata": {
    "scrolled": true
   },
   "outputs": [
    {
     "name": "stdout",
     "output_type": "stream",
     "text": [
      "khawar \n",
      " wow\t50\n"
     ]
    }
   ],
   "source": [
    "print(\"khawar \\n wow\\t50\" )"
   ]
  },
  {
   "cell_type": "code",
   "execution_count": 26,
   "id": "30986b4f",
   "metadata": {},
   "outputs": [
    {
     "name": "stdout",
     "output_type": "stream",
     "text": [
      "hey there     how are you\n",
      "i am fine\n"
     ]
    }
   ],
   "source": [
    "print(\"hey there \",end=\"    \")\n",
    "print(\"how are you\")\n",
    "print(\"i am fine\")"
   ]
  },
  {
   "cell_type": "code",
   "execution_count": 22,
   "id": "b94b85cc",
   "metadata": {},
   "outputs": [
    {
     "ename": "NameError",
     "evalue": "name 'golu' is not defined",
     "output_type": "error",
     "traceback": [
      "\u001b[0;31m---------------------------------------------------------------------------\u001b[0m",
      "\u001b[0;31mNameError\u001b[0m                                 Traceback (most recent call last)",
      "Cell \u001b[0;32mIn[22], line 1\u001b[0m\n\u001b[0;32m----> 1\u001b[0m \u001b[38;5;28mprint\u001b[39m(\u001b[38;5;28mint\u001b[39m(\u001b[43mgolu\u001b[49m)\u001b[38;5;241m+\u001b[39m\u001b[38;5;28mint\u001b[39m(polu))\n",
      "\u001b[0;31mNameError\u001b[0m: name 'golu' is not defined"
     ]
    }
   ],
   "source": [
    "print(int(golu)+int(polu))"
   ]
  },
  {
   "cell_type": "code",
   "execution_count": 27,
   "id": "f9546d85",
   "metadata": {},
   "outputs": [
    {
     "name": "stdout",
     "output_type": "stream",
     "text": [
      "<class 'str'>\n",
      "<class 'int'>\n",
      "<class 'float'>\n"
     ]
    }
   ],
   "source": [
    "x=(\"khawar\")\n",
    "print(type(x))\n",
    "y=9\n",
    "print(type(y))\n",
    "z=2.40\n",
    "print(type(z))"
   ]
  },
  {
   "cell_type": "code",
   "execution_count": 26,
   "id": "beef0602",
   "metadata": {},
   "outputs": [
    {
     "name": "stdout",
     "output_type": "stream",
     "text": [
      "1,2,3,4,5,6,7,8,9,10,"
     ]
    }
   ],
   "source": [
    "for x in range (10):\n",
    "    print(x+1,)#end=\",\")"
   ]
  },
  {
   "cell_type": "code",
   "execution_count": 24,
   "id": "5cf92780",
   "metadata": {},
   "outputs": [
    {
     "name": "stdout",
     "output_type": "stream",
     "text": [
      "hey there,\n",
      "how are you,i am fine\n"
     ]
    }
   ],
   "source": [
    "print(\"hey there\",end=\",\\n\")\n",
    "print(\"how are you\",end=\",\")\n",
    "print(\"i am fine\")"
   ]
  },
  {
   "cell_type": "code",
   "execution_count": null,
   "id": "2c50f2da",
   "metadata": {
    "scrolled": true
   },
   "outputs": [],
   "source": [
    "\n"
   ]
  },
  {
   "cell_type": "code",
   "execution_count": null,
   "id": "ad42fe23",
   "metadata": {},
   "outputs": [],
   "source": [
    "\n",
    "\n"
   ]
  },
  {
   "cell_type": "code",
   "execution_count": 3,
   "id": "14392f6c",
   "metadata": {},
   "outputs": [
    {
     "name": "stdout",
     "output_type": "stream",
     "text": [
      "hi\n"
     ]
    }
   ],
   "source": [
    "\"\"\"hey there how are you \"\"\"\n",
    "print(\"hi\")"
   ]
  },
  {
   "cell_type": "code",
   "execution_count": 2,
   "id": "c06839e1",
   "metadata": {},
   "outputs": [
    {
     "name": "stdout",
     "output_type": "stream",
     "text": [
      "hi\n"
     ]
    }
   ],
   "source": [
    "print(\"hi\")"
   ]
  },
  {
   "cell_type": "code",
   "execution_count": null,
   "id": "4afeadbf",
   "metadata": {},
   "outputs": [],
   "source": []
  },
  {
   "cell_type": "code",
   "execution_count": null,
   "id": "7f048c2d",
   "metadata": {},
   "outputs": [],
   "source": []
  },
  {
   "cell_type": "code",
   "execution_count": null,
   "id": "91bfb2da",
   "metadata": {},
   "outputs": [],
   "source": []
  },
  {
   "cell_type": "code",
   "execution_count": null,
   "id": "b714d8aa",
   "metadata": {},
   "outputs": [],
   "source": []
  }
 ],
 "metadata": {
  "kernelspec": {
   "display_name": "Python 3 (ipykernel)",
   "language": "python",
   "name": "python3"
  },
  "language_info": {
   "codemirror_mode": {
    "name": "ipython",
    "version": 3
   },
   "file_extension": ".py",
   "mimetype": "text/x-python",
   "name": "python",
   "nbconvert_exporter": "python",
   "pygments_lexer": "ipython3",
   "version": "3.10.9"
  }
 },
 "nbformat": 4,
 "nbformat_minor": 5
}
