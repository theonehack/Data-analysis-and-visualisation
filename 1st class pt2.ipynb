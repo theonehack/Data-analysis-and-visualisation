{
 "cells": [
  {
   "cell_type": "code",
   "execution_count": 1,
   "id": "da2ff827",
   "metadata": {},
   "outputs": [
    {
     "name": "stdout",
     "output_type": "stream",
     "text": [
      "Requirement already satisfied: pandas in ./anaconda3/lib/python3.10/site-packages (1.5.3)\n",
      "Requirement already satisfied: python-dateutil>=2.8.1 in ./anaconda3/lib/python3.10/site-packages (from pandas) (2.8.2)\n",
      "Requirement already satisfied: pytz>=2020.1 in ./anaconda3/lib/python3.10/site-packages (from pandas) (2022.7)\n",
      "Requirement already satisfied: numpy>=1.21.0 in ./anaconda3/lib/python3.10/site-packages (from pandas) (1.23.5)\n",
      "Requirement already satisfied: six>=1.5 in ./anaconda3/lib/python3.10/site-packages (from python-dateutil>=2.8.1->pandas) (1.16.0)\n",
      "Note: you may need to restart the kernel to use updated packages.\n"
     ]
    }
   ],
   "source": [
    "pip install pandas"
   ]
  },
  {
   "cell_type": "code",
   "execution_count": 2,
   "id": "9d2c28d1",
   "metadata": {},
   "outputs": [
    {
     "name": "stdout",
     "output_type": "stream",
     "text": [
      "Requirement already satisfied: numpy in ./anaconda3/lib/python3.10/site-packages (1.23.5)\n",
      "Note: you may need to restart the kernel to use updated packages.\n"
     ]
    }
   ],
   "source": [
    "pip install numpy"
   ]
  },
  {
   "cell_type": "code",
   "execution_count": 3,
   "id": "9ded0018",
   "metadata": {},
   "outputs": [],
   "source": [
    "import pandas as pd"
   ]
  },
  {
   "cell_type": "code",
   "execution_count": 4,
   "id": "4ad9383d",
   "metadata": {},
   "outputs": [
    {
     "name": "stdout",
     "output_type": "stream",
     "text": [
      "7\n"
     ]
    }
   ],
   "source": [
    "print(len(\"khawar \"))"
   ]
  },
  {
   "cell_type": "code",
   "execution_count": 6,
   "id": "0b99cfa7",
   "metadata": {},
   "outputs": [
    {
     "name": "stdout",
     "output_type": "stream",
     "text": [
      "6\n",
      "5\n"
     ]
    }
   ],
   "source": [
    "print(len(\"012345\"))\n",
    "print(len(\"12345\"))"
   ]
  },
  {
   "cell_type": "code",
   "execution_count": 8,
   "id": "931591a9",
   "metadata": {},
   "outputs": [
    {
     "ename": "SyntaxError",
     "evalue": "leading zeros in decimal integer literals are not permitted; use an 0o prefix for octal integers (2638990985.py, line 1)",
     "output_type": "error",
     "traceback": [
      "\u001b[0;36m  Cell \u001b[0;32mIn[8], line 1\u001b[0;36m\u001b[0m\n\u001b[0;31m    print(len(int(012345))\u001b[0m\n\u001b[0m                  ^\u001b[0m\n\u001b[0;31mSyntaxError\u001b[0m\u001b[0;31m:\u001b[0m leading zeros in decimal integer literals are not permitted; use an 0o prefix for octal integers\n"
     ]
    }
   ],
   "source": [
    "print(len(012345))"
   ]
  },
  {
   "cell_type": "code",
   "execution_count": 9,
   "id": "c7d79209",
   "metadata": {},
   "outputs": [
    {
     "ename": "TypeError",
     "evalue": "object of type 'int' has no len()",
     "output_type": "error",
     "traceback": [
      "\u001b[0;31m---------------------------------------------------------------------------\u001b[0m",
      "\u001b[0;31mTypeError\u001b[0m                                 Traceback (most recent call last)",
      "Cell \u001b[0;32mIn[9], line 1\u001b[0m\n\u001b[0;32m----> 1\u001b[0m \u001b[38;5;28mprint\u001b[39m(\u001b[38;5;28;43mlen\u001b[39;49m\u001b[43m(\u001b[49m\u001b[38;5;241;43m12345\u001b[39;49m\u001b[43m)\u001b[49m)\n",
      "\u001b[0;31mTypeError\u001b[0m: object of type 'int' has no len()"
     ]
    }
   ],
   "source": [
    "print(len(12345))"
   ]
  },
  {
   "cell_type": "code",
   "execution_count": 10,
   "id": "99f4bb7c",
   "metadata": {},
   "outputs": [],
   "source": []
  },
  {
   "cell_type": "code",
   "execution_count": 4,
   "id": "04d995f4",
   "metadata": {},
   "outputs": [
    {
     "name": "stdout",
     "output_type": "stream",
     "text": [
      "He is awesome\n",
      "3\n",
      "40.7\n",
      "<class 'str'>\n",
      "<class 'int'>\n",
      "<class 'float'>\n"
     ]
    }
   ],
   "source": [
    "Nitesh='He is awesome'\n",
    "Bunty=3\n",
    "Waist=40.7\n",
    "print(Nitesh)\n",
    "print(Bunty)\n",
    "print(Waist)\n",
    "print(type(Nitesh))\n",
    "print(type(Bunty))\n",
    "print(type(Waist))"
   ]
  },
  {
   "cell_type": "code",
   "execution_count": 5,
   "id": "6fefc48f",
   "metadata": {},
   "outputs": [
    {
     "ename": "TypeError",
     "evalue": "can only concatenate str (not \"float\") to str",
     "output_type": "error",
     "traceback": [
      "\u001b[0;31m---------------------------------------------------------------------------\u001b[0m",
      "\u001b[0;31mTypeError\u001b[0m                                 Traceback (most recent call last)",
      "Cell \u001b[0;32mIn[5], line 1\u001b[0m\n\u001b[0;32m----> 1\u001b[0m \u001b[38;5;28mprint\u001b[39m(\u001b[43mNitesh\u001b[49m\u001b[38;5;241;43m+\u001b[39;49m\u001b[43mWaist\u001b[49m)\n",
      "\u001b[0;31mTypeError\u001b[0m: can only concatenate str (not \"float\") to str"
     ]
    }
   ],
   "source": [
    "print(Nitesh+Waist)"
   ]
  },
  {
   "cell_type": "code",
   "execution_count": 6,
   "id": "cafcad1c",
   "metadata": {},
   "outputs": [
    {
     "data": {
      "text/plain": [
       "'He works here'"
      ]
     },
     "execution_count": 6,
     "metadata": {},
     "output_type": "execute_result"
    }
   ],
   "source": [
    "CUTM=\"He works here\" \n",
    "CUTM"
   ]
  },
  {
   "cell_type": "code",
   "execution_count": 7,
   "id": "f55063f4",
   "metadata": {},
   "outputs": [
    {
     "name": "stdout",
     "output_type": "stream",
     "text": [
      "He is awesomeHe works here\n"
     ]
    }
   ],
   "source": [
    "print(Nitesh+CUTM)"
   ]
  },
  {
   "cell_type": "code",
   "execution_count": 9,
   "id": "62b8d28d",
   "metadata": {},
   "outputs": [
    {
     "name": "stdout",
     "output_type": "stream",
     "text": [
      "He is smart 32\n"
     ]
    }
   ],
   "source": [
    "Golu=\"He is smart \"\n",
    "Goli=\"32\"\n",
    "print(Golu+Goli)\n"
   ]
  },
  {
   "cell_type": "code",
   "execution_count": 11,
   "id": "10a087d0",
   "metadata": {},
   "outputs": [
    {
     "name": "stdout",
     "output_type": "stream",
     "text": [
      "28 32\n"
     ]
    }
   ],
   "source": [
    "Golu=\"28\"\n",
    "Goli= \" 32\" \n",
    "print(Golu+Goli)"
   ]
  },
  {
   "cell_type": "code",
   "execution_count": 12,
   "id": "bfc04446",
   "metadata": {},
   "outputs": [
    {
     "name": "stdout",
     "output_type": "stream",
     "text": [
      "60\n"
     ]
    }
   ],
   "source": [
    "print(int(Golu)+int(Goli))"
   ]
  },
  {
   "cell_type": "code",
   "execution_count": 13,
   "id": "77773ed4",
   "metadata": {},
   "outputs": [
    {
     "name": "stdout",
     "output_type": "stream",
     "text": [
      "I love my Uni\n"
     ]
    }
   ],
   "source": [
    "print(\"I love my Uni\")"
   ]
  },
  {
   "cell_type": "code",
   "execution_count": 14,
   "id": "80c7d4ef",
   "metadata": {},
   "outputs": [
    {
     "name": "stdout",
     "output_type": "stream",
     "text": [
      "I love my UniI love my UniI love my UniI love my UniI love my UniI love my UniI love my UniI love my UniI love my UniI love my Uni\n"
     ]
    }
   ],
   "source": [
    "print(10* \"I love my Uni\")"
   ]
  },
  {
   "cell_type": "code",
   "execution_count": 15,
   "id": "4b6f2ae9",
   "metadata": {},
   "outputs": [
    {
     "name": "stdout",
     "output_type": "stream",
     "text": [
      "I love my Uni\n",
      "I love my Uni\n",
      "I love my Uni\n",
      "I love my Uni\n",
      "I love my Uni\n",
      "I love my Uni\n",
      "I love my Uni\n",
      "I love my Uni\n",
      "I love my Uni\n",
      "I love my Uni\n",
      "\n"
     ]
    }
   ],
   "source": [
    "print(10* \"I love my Uni\\n\")"
   ]
  },
  {
   "cell_type": "code",
   "execution_count": 16,
   "id": "dcb66886",
   "metadata": {},
   "outputs": [
    {
     "name": "stdout",
     "output_type": "stream",
     "text": [
      "60606060606060606060\n"
     ]
    }
   ],
   "source": [
    "print(10* str(int(Golu)+int(Goli)))"
   ]
  },
  {
   "cell_type": "code",
   "execution_count": 17,
   "id": "7fcc33ab",
   "metadata": {},
   "outputs": [
    {
     "name": "stdout",
     "output_type": "stream",
     "text": [
      "600\n"
     ]
    }
   ],
   "source": [
    "print(10* (int(Golu)+int(Goli)))"
   ]
  },
  {
   "cell_type": "code",
   "execution_count": 18,
   "id": "c93e14be",
   "metadata": {},
   "outputs": [
    {
     "data": {
      "text/plain": [
       "50"
      ]
     },
     "execution_count": 18,
     "metadata": {},
     "output_type": "execute_result"
    }
   ],
   "source": [
    "25+25"
   ]
  },
  {
   "cell_type": "code",
   "execution_count": null,
   "id": "935ab5b0",
   "metadata": {},
   "outputs": [],
   "source": []
  }
 ],
 "metadata": {
  "kernelspec": {
   "display_name": "Python 3 (ipykernel)",
   "language": "python",
   "name": "python3"
  },
  "language_info": {
   "codemirror_mode": {
    "name": "ipython",
    "version": 3
   },
   "file_extension": ".py",
   "mimetype": "text/x-python",
   "name": "python",
   "nbconvert_exporter": "python",
   "pygments_lexer": "ipython3",
   "version": "3.10.9"
  }
 },
 "nbformat": 4,
 "nbformat_minor": 5
}
