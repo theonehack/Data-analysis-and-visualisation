{
 "cells": [
  {
   "cell_type": "code",
   "execution_count": 1,
   "id": "6a4a0eed",
   "metadata": {},
   "outputs": [
    {
     "name": "stdout",
     "output_type": "stream",
     "text": [
      "<class 'dict'>\n"
     ]
    }
   ],
   "source": [
    "d1={}\n",
    "print(type(d1))"
   ]
  },
  {
   "cell_type": "code",
   "execution_count": 2,
   "id": "246a002b",
   "metadata": {},
   "outputs": [
    {
     "name": "stdout",
     "output_type": "stream",
     "text": [
      "<class 'list'>\n"
     ]
    }
   ],
   "source": [
    "d2=[]\n",
    "print(type(d2))"
   ]
  },
  {
   "cell_type": "code",
   "execution_count": 3,
   "id": "cca1d76d",
   "metadata": {},
   "outputs": [
    {
     "name": "stdout",
     "output_type": "stream",
     "text": [
      "<class 'tuple'>\n"
     ]
    }
   ],
   "source": [
    "d3=()\n",
    "print(type(d3))"
   ]
  },
  {
   "cell_type": "code",
   "execution_count": 29,
   "id": "9ca429d7",
   "metadata": {},
   "outputs": [
    {
     "data": {
      "text/plain": [
       "{'Nitesh': 'Paneer', 'Rohan': 'Fish', 'Adyasha': 'burger'}"
      ]
     },
     "execution_count": 29,
     "metadata": {},
     "output_type": "execute_result"
    }
   ],
   "source": [
    "d4={\"Nitesh\": \"Paneer\",\"Rohan\": \"Fish\",\"Adyasha\": \"burger\"}\n",
    "d4"
   ]
  },
  {
   "cell_type": "code",
   "execution_count": 30,
   "id": "1b23dd64",
   "metadata": {},
   "outputs": [
    {
     "name": "stdout",
     "output_type": "stream",
     "text": [
      "burger\n"
     ]
    }
   ],
   "source": [
    "print(d4[\"Adyasha\"])"
   ]
  },
  {
   "cell_type": "code",
   "execution_count": 31,
   "id": "b97b07eb",
   "metadata": {},
   "outputs": [
    {
     "name": "stdout",
     "output_type": "stream",
     "text": [
      "{'Nitesh': 'Paneer', 'Rohan': 'Fish', 'Adyasha': 'burger', 'adyasha': {'a': 'Maggi', 'b': 'Kalt Kaffe'}}\n",
      "{'a': 'Maggi', 'b': 'Kalt Kaffe'}\n"
     ]
    }
   ],
   "source": [
    "d4={\"Nitesh\": \"Paneer\",\"Rohan\": \"Fish\",\"Adyasha\": \"burger\",\"adyasha\":{\"a\": \"Maggi\",\"b\": \"Kalt Kaffe\"}}\n",
    "print(d4)\n",
    "print(d4[\"adyasha\"])"
   ]
  },
  {
   "cell_type": "code",
   "execution_count": 32,
   "id": "d73a5fc0",
   "metadata": {},
   "outputs": [
    {
     "name": "stdout",
     "output_type": "stream",
     "text": [
      "Kalt Kaffe\n"
     ]
    }
   ],
   "source": [
    "print(d4[\"adyasha\"][\"b\"])"
   ]
  },
  {
   "cell_type": "code",
   "execution_count": 33,
   "id": "86c8b230",
   "metadata": {},
   "outputs": [
    {
     "name": "stdout",
     "output_type": "stream",
     "text": [
      "{'Nitesh': 'Paneer', 'Rohan': 'Fish', 'Adyasha': 'burger', 'adyasha': {'a': 'Maggi', 'b': 'Kalt Kaffe'}, 'Subham': 'Brot'}\n"
     ]
    }
   ],
   "source": [
    "d4[\"Subham\"]=\"Brot\"\n",
    "print(d4)"
   ]
  },
  {
   "cell_type": "code",
   "execution_count": 34,
   "id": "45e02864",
   "metadata": {},
   "outputs": [
    {
     "name": "stdout",
     "output_type": "stream",
     "text": [
      "{'Nitesh': 'Paneer', 'Rohan': 'Fish', 'Adyasha': 'burger', 'adyasha': {'a': 'Maggi', 'b': 'Kalt Kaffe'}, 'Subham': 'Brot', 'Preeti': 'der Croissant'}\n"
     ]
    }
   ],
   "source": [
    "d4[\"Preeti\"]=\"der Croissant\"\n",
    "print(d4)"
   ]
  },
  {
   "cell_type": "code",
   "execution_count": 35,
   "id": "0d0941f6",
   "metadata": {},
   "outputs": [
    {
     "name": "stdout",
     "output_type": "stream",
     "text": [
      "{'Nitesh': 'Paneer', 'Rohan': 'Fish', 'Adyasha': 'burger', 'adyasha': {'a': 'Maggi', 'b': 'Kalt Kaffe'}, 'Preeti': 'der Croissant'}\n"
     ]
    }
   ],
   "source": [
    "del d4[\"Subham\"]\n",
    "print(d4)"
   ]
  },
  {
   "cell_type": "code",
   "execution_count": 36,
   "id": "168f3727",
   "metadata": {},
   "outputs": [
    {
     "name": "stdout",
     "output_type": "stream",
     "text": [
      "{'Nitesh': 'Paneer', 'Rohan': 'Fish', 'Adyasha': 'burger', 'adyasha': {'a': 'Maggi', 'b': 'Kalt Kaffe'}, 'Preeti': 'der Croissant'}\n"
     ]
    }
   ],
   "source": [
    "d5=d4\n",
    "print(d5)"
   ]
  },
  {
   "cell_type": "code",
   "execution_count": 37,
   "id": "cb975491",
   "metadata": {},
   "outputs": [
    {
     "name": "stdout",
     "output_type": "stream",
     "text": [
      "{'Rohan': 'Fish', 'Adyasha': 'burger', 'adyasha': {'a': 'Maggi', 'b': 'Kalt Kaffe'}, 'Preeti': 'der Croissant'}\n",
      "{'Rohan': 'Fish', 'Adyasha': 'burger', 'adyasha': {'a': 'Maggi', 'b': 'Kalt Kaffe'}, 'Preeti': 'der Croissant'}\n"
     ]
    }
   ],
   "source": [
    "del d5[\"Nitesh\"]\n",
    "print(d4)\n",
    "print(d5)"
   ]
  },
  {
   "cell_type": "code",
   "execution_count": 38,
   "id": "3587a9a3",
   "metadata": {},
   "outputs": [
    {
     "name": "stdout",
     "output_type": "stream",
     "text": [
      "{'Adyasha': 'burger', 'adyasha': {'a': 'Maggi', 'b': 'Kalt Kaffe'}, 'Preeti': 'der Croissant'}\n",
      "{'Rohan': 'Fish', 'Adyasha': 'burger', 'adyasha': {'a': 'Maggi', 'b': 'Kalt Kaffe'}, 'Preeti': 'der Croissant'}\n"
     ]
    }
   ],
   "source": [
    "d5=d4.copy()\n",
    "del d5[\"Rohan\"]\n",
    "print(d5)\n",
    "print(d4)"
   ]
  },
  {
   "cell_type": "code",
   "execution_count": 40,
   "id": "446b6a41",
   "metadata": {},
   "outputs": [
    {
     "name": "stdout",
     "output_type": "stream",
     "text": [
      "{'Rohan': 'Fish', 'Adyasha': 'burger', 'adyasha': {'a': 'Maggi', 'b': 'Kalt Kaffe'}, 'Preeti': 'der Croissant', 'Simran': 'Chocolade'}\n"
     ]
    }
   ],
   "source": [
    "d4.update({\"Simran\":\"Chocolade\"})\n",
    "print(d4)"
   ]
  },
  {
   "cell_type": "code",
   "execution_count": 41,
   "id": "74232872",
   "metadata": {},
   "outputs": [
    {
     "name": "stdout",
     "output_type": "stream",
     "text": [
      "dict_items([('Rohan', 'Fish'), ('Adyasha', 'burger'), ('adyasha', {'a': 'Maggi', 'b': 'Kalt Kaffe'}), ('Preeti', 'der Croissant'), ('Simran', 'Chocolade')])\n"
     ]
    }
   ],
   "source": [
    "print(d4.items())"
   ]
  },
  {
   "cell_type": "code",
   "execution_count": 44,
   "id": "f4a1e58f",
   "metadata": {},
   "outputs": [
    {
     "name": "stdout",
     "output_type": "stream",
     "text": [
      "123Jyoti\n"
     ]
    }
   ],
   "source": [
    "preeti=\"123\"\n",
    "Adyasha=\"Jyoti\"\n",
    "print(preeti+Adyasha)"
   ]
  },
  {
   "cell_type": "code",
   "execution_count": null,
   "id": "e2faa2e1",
   "metadata": {},
   "outputs": [],
   "source": []
  }
 ],
 "metadata": {
  "kernelspec": {
   "display_name": "Python 3 (ipykernel)",
   "language": "python",
   "name": "python3"
  },
  "language_info": {
   "codemirror_mode": {
    "name": "ipython",
    "version": 3
   },
   "file_extension": ".py",
   "mimetype": "text/x-python",
   "name": "python",
   "nbconvert_exporter": "python",
   "pygments_lexer": "ipython3",
   "version": "3.10.9"
  }
 },
 "nbformat": 4,
 "nbformat_minor": 5
}
