{
 "cells": [
  {
   "cell_type": "code",
   "execution_count": 3,
   "id": "b3c347a4",
   "metadata": {},
   "outputs": [
    {
     "data": {
      "text/plain": [
       "'Khawar is a very good boy'"
      ]
     },
     "execution_count": 3,
     "metadata": {},
     "output_type": "execute_result"
    }
   ],
   "source": [
    "My_Name=\"Khawar is a very good boy\"\n",
    "My_Name\n"
   ]
  },
  {
   "cell_type": "code",
   "execution_count": 4,
   "id": "9eaf1c0e",
   "metadata": {},
   "outputs": [
    {
     "name": "stdout",
     "output_type": "stream",
     "text": [
      "Khawar is a very good boy\n"
     ]
    }
   ],
   "source": [
    "print(My_Name)"
   ]
  },
  {
   "cell_type": "code",
   "execution_count": 5,
   "id": "bdc17f09",
   "metadata": {},
   "outputs": [
    {
     "name": "stdout",
     "output_type": "stream",
     "text": [
      "25\n"
     ]
    }
   ],
   "source": [
    "print(len(My_Name))"
   ]
  },
  {
   "cell_type": "code",
   "execution_count": 6,
   "id": "39d33709",
   "metadata": {},
   "outputs": [
    {
     "name": "stdout",
     "output_type": "stream",
     "text": [
      "Khawar\n"
     ]
    }
   ],
   "source": [
    "print(My_Name[0:6])"
   ]
  },
  {
   "cell_type": "code",
   "execution_count": 7,
   "id": "163195f8",
   "metadata": {},
   "outputs": [
    {
     "name": "stdout",
     "output_type": "stream",
     "text": [
      "r\n"
     ]
    }
   ],
   "source": [
    "print(My_Name[5])"
   ]
  },
  {
   "cell_type": "code",
   "execution_count": 8,
   "id": "0f34275d",
   "metadata": {},
   "outputs": [
    {
     "ename": "IndexError",
     "evalue": "string index out of range",
     "output_type": "error",
     "traceback": [
      "\u001b[0;31m---------------------------------------------------------------------------\u001b[0m",
      "\u001b[0;31mIndexError\u001b[0m                                Traceback (most recent call last)",
      "Cell \u001b[0;32mIn[8], line 1\u001b[0m\n\u001b[0;32m----> 1\u001b[0m \u001b[38;5;28mprint\u001b[39m(\u001b[43mMy_Name\u001b[49m\u001b[43m[\u001b[49m\u001b[38;5;241;43m100\u001b[39;49m\u001b[43m]\u001b[49m)\n",
      "\u001b[0;31mIndexError\u001b[0m: string index out of range"
     ]
    }
   ],
   "source": [
    "print(My_Name[100])"
   ]
  },
  {
   "cell_type": "code",
   "execution_count": 9,
   "id": "c999c9d6",
   "metadata": {},
   "outputs": [
    {
     "name": "stdout",
     "output_type": "stream",
     "text": [
      "Khawar is a very good boy\n"
     ]
    }
   ],
   "source": [
    "print(My_Name[0:100])"
   ]
  },
  {
   "cell_type": "code",
   "execution_count": 10,
   "id": "8bed7fd4",
   "metadata": {},
   "outputs": [
    {
     "name": "stdout",
     "output_type": "stream",
     "text": [
      "Kaa\n"
     ]
    }
   ],
   "source": [
    "print(My_Name[0:6:2])"
   ]
  },
  {
   "cell_type": "code",
   "execution_count": 11,
   "id": "91d3a7a0",
   "metadata": {},
   "outputs": [
    {
     "name": "stdout",
     "output_type": "stream",
     "text": [
      "Kw\n"
     ]
    }
   ],
   "source": [
    "print(My_Name[0:6:3])"
   ]
  },
  {
   "cell_type": "code",
   "execution_count": 12,
   "id": "f44421da",
   "metadata": {},
   "outputs": [
    {
     "name": "stdout",
     "output_type": "stream",
     "text": [
      "Khawar is a very good boy\n"
     ]
    }
   ],
   "source": [
    "print(My_Name[:])"
   ]
  },
  {
   "cell_type": "code",
   "execution_count": 13,
   "id": "1484918c",
   "metadata": {},
   "outputs": [
    {
     "name": "stdout",
     "output_type": "stream",
     "text": [
      "Khawar is a very good boy\n"
     ]
    }
   ],
   "source": [
    "print(My_Name[:26])"
   ]
  },
  {
   "cell_type": "code",
   "execution_count": 14,
   "id": "cff4a304",
   "metadata": {},
   "outputs": [
    {
     "name": "stdout",
     "output_type": "stream",
     "text": [
      "Khawar is a very good boy\n"
     ]
    }
   ],
   "source": [
    "print(My_Name[0:])"
   ]
  },
  {
   "cell_type": "code",
   "execution_count": 15,
   "id": "518d3920",
   "metadata": {},
   "outputs": [
    {
     "name": "stdout",
     "output_type": "stream",
     "text": [
      "Khawar is a very good boy\n",
      "Khawar is a very good boy\n"
     ]
    }
   ],
   "source": [
    "print(My_Name[:])\n",
    "print(My_Name[::])"
   ]
  },
  {
   "cell_type": "code",
   "execution_count": 16,
   "id": "b9499393",
   "metadata": {},
   "outputs": [
    {
     "name": "stdout",
     "output_type": "stream",
     "text": [
      "Kw  vyo y\n"
     ]
    }
   ],
   "source": [
    "print(My_Name[::3])"
   ]
  },
  {
   "cell_type": "code",
   "execution_count": 17,
   "id": "b6938dd6",
   "metadata": {},
   "outputs": [
    {
     "name": "stdout",
     "output_type": "stream",
     "text": [
      "Khawar is a very good boy\n"
     ]
    }
   ],
   "source": [
    "print(My_Name)"
   ]
  },
  {
   "cell_type": "code",
   "execution_count": 18,
   "id": "fa9c8297",
   "metadata": {},
   "outputs": [
    {
     "name": "stdout",
     "output_type": "stream",
     "text": [
      "bo\n"
     ]
    }
   ],
   "source": [
    "print(My_Name[-3:-1])"
   ]
  },
  {
   "cell_type": "code",
   "execution_count": 19,
   "id": "0dbe6c9f",
   "metadata": {},
   "outputs": [
    {
     "name": "stdout",
     "output_type": "stream",
     "text": [
      "y goo\n"
     ]
    }
   ],
   "source": [
    "print(My_Name[-10:-5])"
   ]
  },
  {
   "cell_type": "code",
   "execution_count": 20,
   "id": "439e9da9",
   "metadata": {},
   "outputs": [
    {
     "name": "stdout",
     "output_type": "stream",
     "text": [
      "Khawar is a very good boy\n"
     ]
    }
   ],
   "source": [
    "print(My_Name)"
   ]
  },
  {
   "cell_type": "code",
   "execution_count": 21,
   "id": "87bedc20",
   "metadata": {},
   "outputs": [
    {
     "name": "stdout",
     "output_type": "stream",
     "text": [
      "yob doog yrev a si rawahK\n"
     ]
    }
   ],
   "source": [
    "print(My_Name[::-1])"
   ]
  },
  {
   "cell_type": "code",
   "execution_count": 22,
   "id": "4ec2d6dc",
   "metadata": {},
   "outputs": [
    {
     "name": "stdout",
     "output_type": "stream",
     "text": [
      "ybdo rvas aaK\n"
     ]
    }
   ],
   "source": [
    "print(My_Name[::-2])"
   ]
  },
  {
   "cell_type": "code",
   "execution_count": 23,
   "id": "c6e8062a",
   "metadata": {},
   "outputs": [
    {
     "name": "stdout",
     "output_type": "stream",
     "text": [
      "False\n"
     ]
    }
   ],
   "source": [
    "print(My_Name.isalpha())"
   ]
  },
  {
   "cell_type": "code",
   "execution_count": 24,
   "id": "6beb8946",
   "metadata": {},
   "outputs": [
    {
     "name": "stdout",
     "output_type": "stream",
     "text": [
      "False\n"
     ]
    }
   ],
   "source": [
    "print(My_Name.isalnum())"
   ]
  },
  {
   "cell_type": "code",
   "execution_count": 25,
   "id": "67e4d058",
   "metadata": {},
   "outputs": [],
   "source": [
    "Name=\"Khawarisgood\""
   ]
  },
  {
   "cell_type": "code",
   "execution_count": 27,
   "id": "d3201edc",
   "metadata": {},
   "outputs": [
    {
     "name": "stdout",
     "output_type": "stream",
     "text": [
      "True\n"
     ]
    }
   ],
   "source": [
    "print(Name.isalpha())"
   ]
  },
  {
   "cell_type": "code",
   "execution_count": 28,
   "id": "1c5126dd",
   "metadata": {},
   "outputs": [
    {
     "name": "stdout",
     "output_type": "stream",
     "text": [
      "True\n"
     ]
    }
   ],
   "source": [
    "print(My_Name.endswith(\"boy\"))"
   ]
  },
  {
   "cell_type": "code",
   "execution_count": 30,
   "id": "ad8c7c1b",
   "metadata": {},
   "outputs": [
    {
     "name": "stdout",
     "output_type": "stream",
     "text": [
      "0\n",
      "Khawar is a very good boy\n",
      "khawar is a very good boy\n",
      "KHAWAR IS A VERY GOOD BOY\n"
     ]
    }
   ],
   "source": [
    "print(My_Name.count(\"N\"))\n",
    "print(My_Name.capitalize())\n",
    "print(My_Name.lower())\n",
    "print(My_Name.upper())"
   ]
  },
  {
   "cell_type": "code",
   "execution_count": 31,
   "id": "e18c8215",
   "metadata": {},
   "outputs": [
    {
     "name": "stdout",
     "output_type": "stream",
     "text": [
      "7\n"
     ]
    }
   ],
   "source": [
    "print(My_Name.find(\"is\"))"
   ]
  },
  {
   "cell_type": "code",
   "execution_count": 32,
   "id": "5522821b",
   "metadata": {},
   "outputs": [
    {
     "name": "stdout",
     "output_type": "stream",
     "text": [
      "Khawar are a very good boy\n"
     ]
    },
    {
     "data": {
      "text/plain": [
       "'Khawar is a very good boy'"
      ]
     },
     "execution_count": 32,
     "metadata": {},
     "output_type": "execute_result"
    }
   ],
   "source": [
    "print(My_Name.replace(\"is\",\"are\"))\n",
    "My_Name"
   ]
  },
  {
   "cell_type": "code",
   "execution_count": 33,
   "id": "c933e660",
   "metadata": {},
   "outputs": [
    {
     "name": "stdout",
     "output_type": "stream",
     "text": [
      "['Indian', 'Afghan', 'Nigerian', 'Kenyan', 'French', 70, '95']\n"
     ]
    }
   ],
   "source": [
    "Uni=[\"Indian\",\"Afghan\",\"Nigerian\",\"Kenyan\",\"French\", 70,\"95\"]\n",
    "print(Uni)"
   ]
  },
  {
   "cell_type": "code",
   "execution_count": 34,
   "id": "94e82e05",
   "metadata": {},
   "outputs": [
    {
     "name": "stdout",
     "output_type": "stream",
     "text": [
      "Nigerian\n"
     ]
    }
   ],
   "source": [
    "print(Uni[2])"
   ]
  },
  {
   "cell_type": "code",
   "execution_count": 35,
   "id": "28b4a262",
   "metadata": {},
   "outputs": [
    {
     "name": "stdout",
     "output_type": "stream",
     "text": [
      "[3, 4, 7, 11, 76, 8, 9]\n"
     ]
    }
   ],
   "source": [
    "Num=[3,4,7,11,76,8,9]\n",
    "print(Num)"
   ]
  },
  {
   "cell_type": "code",
   "execution_count": 36,
   "id": "71b3e12a",
   "metadata": {},
   "outputs": [
    {
     "data": {
      "text/plain": [
       "[3, 4, 7, 8, 9, 11, 76]"
      ]
     },
     "execution_count": 36,
     "metadata": {},
     "output_type": "execute_result"
    }
   ],
   "source": [
    "Num.sort()\n",
    "Num"
   ]
  },
  {
   "cell_type": "code",
   "execution_count": 37,
   "id": "f259ace7",
   "metadata": {},
   "outputs": [
    {
     "data": {
      "text/plain": [
       "[76, 11, 9, 8, 7, 4, 3]"
      ]
     },
     "execution_count": 37,
     "metadata": {},
     "output_type": "execute_result"
    }
   ],
   "source": [
    "Num.reverse()\n",
    "Num"
   ]
  },
  {
   "cell_type": "code",
   "execution_count": 38,
   "id": "87cb4bd0",
   "metadata": {},
   "outputs": [
    {
     "name": "stdout",
     "output_type": "stream",
     "text": [
      "[76, 11, 9, 8, 7, 4]\n"
     ]
    }
   ],
   "source": [
    "print(Num[0:6])"
   ]
  },
  {
   "cell_type": "code",
   "execution_count": 39,
   "id": "53e24d4b",
   "metadata": {},
   "outputs": [
    {
     "name": "stdout",
     "output_type": "stream",
     "text": [
      "[9, 8, 7]\n"
     ]
    }
   ],
   "source": [
    "print(Num[2:5])"
   ]
  },
  {
   "cell_type": "code",
   "execution_count": 40,
   "id": "217d172e",
   "metadata": {},
   "outputs": [
    {
     "name": "stdout",
     "output_type": "stream",
     "text": [
      "[8, 7]\n"
     ]
    }
   ],
   "source": [
    "print(Num[-4:-2])"
   ]
  },
  {
   "cell_type": "code",
   "execution_count": 41,
   "id": "b550fb0c",
   "metadata": {},
   "outputs": [
    {
     "name": "stdout",
     "output_type": "stream",
     "text": [
      "[]\n"
     ]
    }
   ],
   "source": [
    "print(Num[-2:-4])"
   ]
  },
  {
   "cell_type": "code",
   "execution_count": 42,
   "id": "012e23a6",
   "metadata": {},
   "outputs": [
    {
     "name": "stdout",
     "output_type": "stream",
     "text": [
      "[76, 11, 9, 8, 7, 4, 3]\n"
     ]
    }
   ],
   "source": [
    "print(Num[::])"
   ]
  },
  {
   "cell_type": "code",
   "execution_count": 43,
   "id": "e0f4e6ca",
   "metadata": {},
   "outputs": [
    {
     "name": "stdout",
     "output_type": "stream",
     "text": [
      "[76, 11, 9, 8, 7, 4, 3]\n"
     ]
    }
   ],
   "source": [
    "print(Num[::1])"
   ]
  },
  {
   "cell_type": "code",
   "execution_count": 44,
   "id": "24d33d78",
   "metadata": {},
   "outputs": [
    {
     "name": "stdout",
     "output_type": "stream",
     "text": [
      "[76, 9, 7, 3]\n"
     ]
    }
   ],
   "source": [
    "print(Num[::2])"
   ]
  },
  {
   "cell_type": "code",
   "execution_count": 45,
   "id": "8790f125",
   "metadata": {},
   "outputs": [
    {
     "name": "stdout",
     "output_type": "stream",
     "text": [
      "[3, 4, 7, 8, 9, 11, 76]\n"
     ]
    }
   ],
   "source": [
    "print(Num[::-1])"
   ]
  },
  {
   "cell_type": "code",
   "execution_count": 46,
   "id": "8ca07cc4",
   "metadata": {},
   "outputs": [
    {
     "name": "stdout",
     "output_type": "stream",
     "text": [
      "[3, 8, 76]\n"
     ]
    }
   ],
   "source": [
    "print(Num[::-3])"
   ]
  },
  {
   "cell_type": "code",
   "execution_count": 47,
   "id": "3151470d",
   "metadata": {},
   "outputs": [
    {
     "name": "stdout",
     "output_type": "stream",
     "text": [
      "[11]\n"
     ]
    }
   ],
   "source": [
    "print(Num[1:5-3])"
   ]
  },
  {
   "cell_type": "code",
   "execution_count": 48,
   "id": "4212d75c",
   "metadata": {},
   "outputs": [
    {
     "name": "stdout",
     "output_type": "stream",
     "text": [
      "[11]\n"
     ]
    }
   ],
   "source": [
    "print(Num[1:2])"
   ]
  },
  {
   "cell_type": "code",
   "execution_count": 51,
   "id": "c7eee740",
   "metadata": {},
   "outputs": [
    {
     "name": "stdout",
     "output_type": "stream",
     "text": [
      "7\n"
     ]
    }
   ],
   "source": [
    "print(len(Num))"
   ]
  },
  {
   "cell_type": "code",
   "execution_count": 52,
   "id": "69c5d005",
   "metadata": {},
   "outputs": [
    {
     "name": "stdout",
     "output_type": "stream",
     "text": [
      "76\n"
     ]
    }
   ],
   "source": [
    "print(max(Num))"
   ]
  },
  {
   "cell_type": "code",
   "execution_count": 53,
   "id": "aee7edb0",
   "metadata": {},
   "outputs": [
    {
     "name": "stdout",
     "output_type": "stream",
     "text": [
      "3\n"
     ]
    }
   ],
   "source": [
    "print(min(Num))"
   ]
  },
  {
   "cell_type": "code",
   "execution_count": 83,
   "id": "a6da901e",
   "metadata": {},
   "outputs": [
    {
     "name": "stdout",
     "output_type": "stream",
     "text": [
      "[1, 2, 3, 4]\n",
      "[1, 2, 3, 4, 1]\n",
      "[1, 2, 3, 4, 1]\n"
     ]
    }
   ],
   "source": [
    "x=[1,2,3,4]\n",
    "print(x)\n",
    "x.append(1)\n",
    "print(x)\n",
    "#x.append(2,3,4,5,1)   --:::: at a time it can take one argument\n",
    "print(x)"
   ]
  },
  {
   "cell_type": "code",
   "execution_count": 84,
   "id": "66547248",
   "metadata": {},
   "outputs": [
    {
     "name": "stdout",
     "output_type": "stream",
     "text": [
      "[1, 2, 3, 4, 1]\n",
      "[1, 2, 1, 3, 4, 1]\n"
     ]
    }
   ],
   "source": [
    "print(x)\n",
    "x.insert(2,1)\n",
    "print(x)"
   ]
  },
  {
   "cell_type": "code",
   "execution_count": 85,
   "id": "302cfddd",
   "metadata": {},
   "outputs": [
    {
     "name": "stdout",
     "output_type": "stream",
     "text": [
      "[1, 2, 1, 3, 4, 1]\n",
      "[1, 2, 1, 3, 1]\n"
     ]
    }
   ],
   "source": [
    "print(x)\n",
    "x.remove(4)\n",
    "print(x)"
   ]
  },
  {
   "cell_type": "code",
   "execution_count": 86,
   "id": "f434dcdb",
   "metadata": {},
   "outputs": [
    {
     "name": "stdout",
     "output_type": "stream",
     "text": [
      "(1, 2, 5, 8)\n"
     ]
    }
   ],
   "source": [
    "TP=(1,2,5,8)\n",
    "print(TP)"
   ]
  },
  {
   "cell_type": "code",
   "execution_count": 87,
   "id": "86f69880",
   "metadata": {},
   "outputs": [
    {
     "ename": "TypeError",
     "evalue": "'tuple' object does not support item assignment",
     "output_type": "error",
     "traceback": [
      "\u001b[0;31m---------------------------------------------------------------------------\u001b[0m",
      "\u001b[0;31mTypeError\u001b[0m                                 Traceback (most recent call last)",
      "Cell \u001b[0;32mIn[87], line 1\u001b[0m\n\u001b[0;32m----> 1\u001b[0m TP[\u001b[38;5;241m1\u001b[39m]\u001b[38;5;241m=\u001b[39m\u001b[38;5;241m97\u001b[39m\n",
      "\u001b[0;31mTypeError\u001b[0m: 'tuple' object does not support item assignment"
     ]
    }
   ],
   "source": [
    "TP[1]=97"
   ]
  },
  {
   "cell_type": "code",
   "execution_count": 90,
   "id": "27b3c25c",
   "metadata": {},
   "outputs": [
    {
     "name": "stdout",
     "output_type": "stream",
     "text": [
      "[2]\n"
     ]
    }
   ],
   "source": [
    "lis=[1]\n",
    "lis\n",
    "lis[0]=2\n",
    "print(lis)"
   ]
  },
  {
   "cell_type": "code",
   "execution_count": 92,
   "id": "c189b5da",
   "metadata": {},
   "outputs": [
    {
     "name": "stdout",
     "output_type": "stream",
     "text": [
      "8 9\n"
     ]
    }
   ],
   "source": [
    "a=9\n",
    "b=8\n",
    "a,b=b,a\n",
    "print(a,b)"
   ]
  },
  {
   "cell_type": "code",
   "execution_count": null,
   "id": "50e2caa0",
   "metadata": {},
   "outputs": [],
   "source": []
  }
 ],
 "metadata": {
  "kernelspec": {
   "display_name": "Python 3 (ipykernel)",
   "language": "python",
   "name": "python3"
  },
  "language_info": {
   "codemirror_mode": {
    "name": "ipython",
    "version": 3
   },
   "file_extension": ".py",
   "mimetype": "text/x-python",
   "name": "python",
   "nbconvert_exporter": "python",
   "pygments_lexer": "ipython3",
   "version": "3.10.9"
  }
 },
 "nbformat": 4,
 "nbformat_minor": 5
}
