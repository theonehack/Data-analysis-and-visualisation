{
 "cells": [
  {
   "cell_type": "code",
   "execution_count": 1,
   "id": "49cd5fa8",
   "metadata": {},
   "outputs": [
    {
     "name": "stdout",
     "output_type": "stream",
     "text": [
      "<class 'set'>\n"
     ]
    }
   ],
   "source": [
    "s=set()\n",
    "print(type(s))"
   ]
  },
  {
   "cell_type": "code",
   "execution_count": 2,
   "id": "d25252fc",
   "metadata": {},
   "outputs": [
    {
     "name": "stdout",
     "output_type": "stream",
     "text": [
      "[1, 2, 3, 4]\n"
     ]
    }
   ],
   "source": [
    "s1=([1,2,3,4])\n",
    "print(s1)"
   ]
  },
  {
   "cell_type": "code",
   "execution_count": 3,
   "id": "e70d6906",
   "metadata": {},
   "outputs": [
    {
     "name": "stdout",
     "output_type": "stream",
     "text": [
      "set[[1, 2, 3, 4]]\n"
     ]
    }
   ],
   "source": [
    "lis=[1,2,3,4]\n",
    "s2=set [lis]\n",
    "print(s2)"
   ]
  },
  {
   "cell_type": "code",
   "execution_count": 4,
   "id": "24a4395f",
   "metadata": {},
   "outputs": [],
   "source": [
    "s3=set()"
   ]
  },
  {
   "cell_type": "code",
   "execution_count": 8,
   "id": "e2d23697",
   "metadata": {},
   "outputs": [
    {
     "name": "stdout",
     "output_type": "stream",
     "text": [
      "{2}\n",
      "<class 'set'>\n"
     ]
    }
   ],
   "source": [
    "s3.add(2)\n",
    "print(s3)\n",
    "print(type(s3))"
   ]
  },
  {
   "cell_type": "code",
   "execution_count": 9,
   "id": "a0cb71b1",
   "metadata": {},
   "outputs": [
    {
     "name": "stdout",
     "output_type": "stream",
     "text": [
      "{2, 3}\n"
     ]
    }
   ],
   "source": [
    "s3.add(3)\n",
    "s3.add(2)\n",
    "print(s3)"
   ]
  },
  {
   "cell_type": "code",
   "execution_count": 10,
   "id": "d24ae8ed",
   "metadata": {},
   "outputs": [
    {
     "name": "stdout",
     "output_type": "stream",
     "text": [
      "enter your first number: 3\n",
      "enter your second number: 5\n",
      "Smaller\n"
     ]
    }
   ],
   "source": [
    "X=input(\"enter your first number: \")\n",
    "Y=input(\"enter your second number: \")\n",
    "if X>Y:\n",
    "    print(\"Greater\")\n",
    "else:\n",
    "    print(\"Smaller\")"
   ]
  },
  {
   "cell_type": "code",
   "execution_count": 12,
   "id": "520456c7",
   "metadata": {},
   "outputs": [
    {
     "name": "stdout",
     "output_type": "stream",
     "text": [
      "enter your first number: 3\n",
      "enter your second number: 4\n",
      "enter your 3rd number: 5\n",
      "Smaller\n"
     ]
    }
   ],
   "source": [
    "X=input(\"enter your first number: \")\n",
    "Y=input(\"enter your second number: \")\n",
    "Z=input(\"enter your 3rd number: \")\n",
    "if X>Z:\n",
    "    print(\"Greater\")\n",
    "elif X==Z:\n",
    "    print(\"equal\")\n",
    "elif X<Z:\n",
    "    print(\"Smaller\")"
   ]
  },
  {
   "cell_type": "code",
   "execution_count": 13,
   "id": "b05e9f28",
   "metadata": {},
   "outputs": [
    {
     "name": "stdout",
     "output_type": "stream",
     "text": [
      "True\n",
      "Sahi hai bhai\n"
     ]
    }
   ],
   "source": [
    "Tup1=(1,3,5)\n",
    "print (17 not in Tup1)\n",
    "if 17 not in Tup1:\n",
    "    print (\"Sahi hai bhai\")"
   ]
  },
  {
   "cell_type": "code",
   "execution_count": 15,
   "id": "cb1dda31",
   "metadata": {},
   "outputs": [
    {
     "name": "stdout",
     "output_type": "stream",
     "text": [
      "can you drink let's check it out. \n",
      "What is your age\n",
      ": 18\n",
      "We have to think\n"
     ]
    }
   ],
   "source": [
    "print(\"can you drink let's check it out. \")\n",
    "print(\"What is your age\")\n",
    "age=int(input(\": \"))\n",
    "if age<18:\n",
    "    print(\"You cannot drink\")\n",
    "elif age==18:\n",
    "    print(\"We have to think\")\n",
    "else:\n",
    "    print(\"Swagatam\")"
   ]
  },
  {
   "cell_type": "code",
   "execution_count": 17,
   "id": "0634b01d",
   "metadata": {},
   "outputs": [
    {
     "name": "stdout",
     "output_type": "stream",
     "text": [
      "What is your age\n",
      ": 106\n",
      "Nikal lo SIr\n"
     ]
    }
   ],
   "source": [
    "print(\"What is your age\")\n",
    "age=int(input(\": \"))\n",
    "if age<7 or age>105:\n",
    "    print(\"Nikal lo SIr\")\n",
    "elif age==18:\n",
    "    print(\"We have to think\")\n",
    "else:\n",
    "    print(\"Swagatam\")"
   ]
  },
  {
   "cell_type": "code",
   "execution_count": null,
   "id": "e96ddf79",
   "metadata": {},
   "outputs": [],
   "source": []
  }
 ],
 "metadata": {
  "kernelspec": {
   "display_name": "Python 3 (ipykernel)",
   "language": "python",
   "name": "python3"
  },
  "language_info": {
   "codemirror_mode": {
    "name": "ipython",
    "version": 3
   },
   "file_extension": ".py",
   "mimetype": "text/x-python",
   "name": "python",
   "nbconvert_exporter": "python",
   "pygments_lexer": "ipython3",
   "version": "3.10.9"
  }
 },
 "nbformat": 4,
 "nbformat_minor": 5
}
