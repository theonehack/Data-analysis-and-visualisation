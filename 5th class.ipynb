{
 "cells": [
  {
   "cell_type": "code",
   "execution_count": 1,
   "id": "d360af90",
   "metadata": {},
   "outputs": [
    {
     "data": {
      "text/plain": [
       "range(0, 5)"
      ]
     },
     "execution_count": 1,
     "metadata": {},
     "output_type": "execute_result"
    }
   ],
   "source": [
    "range(5)"
   ]
  },
  {
   "cell_type": "code",
   "execution_count": 3,
   "id": "1849a292",
   "metadata": {},
   "outputs": [
    {
     "name": "stdout",
     "output_type": "stream",
     "text": [
      "0\n",
      "1\n",
      "2\n",
      "3\n",
      "4\n"
     ]
    }
   ],
   "source": [
    "for t in range(5):\n",
    "    print(t)"
   ]
  },
  {
   "cell_type": "code",
   "execution_count": 4,
   "id": "71ed41f5",
   "metadata": {},
   "outputs": [
    {
     "name": "stdout",
     "output_type": "stream",
     "text": [
      "2\n",
      "3\n",
      "4\n",
      "5\n",
      "6\n"
     ]
    }
   ],
   "source": [
    "for z in range(2,7):\n",
    "    print(z)"
   ]
  },
  {
   "cell_type": "code",
   "execution_count": 5,
   "id": "c17c7a7f",
   "metadata": {},
   "outputs": [
    {
     "name": "stdout",
     "output_type": "stream",
     "text": [
      "2\n",
      "4\n",
      "6\n",
      "8\n"
     ]
    }
   ],
   "source": [
    "for k in range(2,9,2):\n",
    "    print(k)"
   ]
  },
  {
   "cell_type": "code",
   "execution_count": 6,
   "id": "8a509a79",
   "metadata": {},
   "outputs": [
    {
     "name": "stdout",
     "output_type": "stream",
     "text": [
      "hallo\n",
      "hallo\n",
      "hallo\n",
      "hallo\n",
      "hallo\n",
      "hallo\n",
      "hallo\n"
     ]
    }
   ],
   "source": [
    "for k in range(2,9,1):\n",
    "    print(\"hallo\")"
   ]
  },
  {
   "cell_type": "code",
   "execution_count": 7,
   "id": "4251b51e",
   "metadata": {},
   "outputs": [
    {
     "name": "stdout",
     "output_type": "stream",
     "text": [
      "2\n",
      "4\n",
      "6\n",
      "8\n",
      "10\n",
      "12\n",
      "14\n",
      "16\n",
      "18\n",
      "20\n"
     ]
    }
   ],
   "source": [
    "for k in range(1,11):\n",
    "    print(2*k)"
   ]
  },
  {
   "cell_type": "code",
   "execution_count": 8,
   "id": "d26333ec",
   "metadata": {},
   "outputs": [
    {
     "name": "stdout",
     "output_type": "stream",
     "text": [
      "2* 1 = 2\n",
      "2* 2 = 4\n",
      "2* 3 = 6\n",
      "2* 4 = 8\n",
      "2* 5 = 10\n",
      "2* 6 = 12\n",
      "2* 7 = 14\n",
      "2* 8 = 16\n",
      "2* 9 = 18\n",
      "2* 10 = 20\n"
     ]
    }
   ],
   "source": [
    "for a in range(1,11):\n",
    "    print(\"2*\", a,\"=\", 2*a)"
   ]
  },
  {
   "cell_type": "code",
   "execution_count": 9,
   "id": "446d3aed",
   "metadata": {},
   "outputs": [
    {
     "name": "stdout",
     "output_type": "stream",
     "text": [
      "10\n",
      "9\n",
      "8\n",
      "7\n",
      "6\n",
      "5\n",
      "4\n",
      "3\n"
     ]
    }
   ],
   "source": [
    "for z in range(10,2, -1):\n",
    "    print(z)"
   ]
  },
  {
   "cell_type": "code",
   "execution_count": 11,
   "id": "18a8d219",
   "metadata": {},
   "outputs": [
    {
     "name": "stdout",
     "output_type": "stream",
     "text": [
      "Khawar is awesome\n",
      "Khawar is awesome\n",
      "Khawar is awesome\n",
      "Khawar is awesome\n",
      "Khawar is awesome\n",
      "Khawar is awesome\n",
      "Khawar is awesome\n",
      "Khawar is awesome\n",
      "Khawar is awesome\n",
      "Khawar is awesome\n"
     ]
    }
   ],
   "source": [
    "i=1\n",
    "while i <=10:\n",
    "    print(\"Khawar is awesome\")\n",
    "    i=i+1"
   ]
  },
  {
   "cell_type": "code",
   "execution_count": 12,
   "id": "f8e5bd89",
   "metadata": {},
   "outputs": [
    {
     "name": "stdout",
     "output_type": "stream",
     "text": [
      "1 Khawar is awesome\n",
      "2 Khawar is awesome\n",
      "3 Khawar is awesome\n",
      "4 Khawar is awesome\n",
      "5 Khawar is awesome\n",
      "6 Khawar is awesome\n",
      "7 Khawar is awesome\n",
      "8 Khawar is awesome\n",
      "9 Khawar is awesome\n",
      "10 Khawar is awesome\n"
     ]
    }
   ],
   "source": [
    "i=1\n",
    "while i <=10:\n",
    "    print(i,\"Khawar is awesome\")\n",
    "    i=i+1"
   ]
  },
  {
   "cell_type": "code",
   "execution_count": 13,
   "id": "c3240da9",
   "metadata": {},
   "outputs": [
    {
     "name": "stdout",
     "output_type": "stream",
     "text": [
      "1 Khawar is awesome\n",
      "2 Khawar is awesome\n",
      "3 Khawar is awesome\n",
      "4 Khawar is awesome\n",
      "5 Khawar is awesome\n",
      "6 Khawar is awesome\n",
      "7 Khawar is awesome\n",
      "8 Khawar is awesome\n",
      "9 Khawar is awesome\n",
      "10 Khawar is awesome\n",
      "11\n"
     ]
    }
   ],
   "source": [
    "i=1\n",
    "while i <=10:\n",
    "    print(i,\"Khawar is awesome\")\n",
    "    i=i+1\n",
    "print(i)"
   ]
  },
  {
   "cell_type": "code",
   "execution_count": 15,
   "id": "fe502a92",
   "metadata": {},
   "outputs": [
    {
     "name": "stdout",
     "output_type": "stream",
     "text": [
      "10 Awesome\n",
      "9 Awesome\n",
      "8 Awesome\n",
      "7 Awesome\n",
      "6 Awesome\n",
      "5 Awesome\n",
      "4 Awesome\n",
      "3 Awesome\n",
      "2 Awesome\n",
      "1 Awesome\n",
      "0\n"
     ]
    }
   ],
   "source": [
    "r=10\n",
    "while r>=1:\n",
    "    print(r,\"Awesome\")\n",
    "    r=r-1\n",
    "print(r)"
   ]
  },
  {
   "cell_type": "code",
   "execution_count": 16,
   "id": "80c47de2",
   "metadata": {},
   "outputs": [
    {
     "name": "stdout",
     "output_type": "stream",
     "text": [
      "1\n",
      "2\n",
      "3\n",
      "4\n",
      "5\n",
      "6\n",
      "7\n",
      "8\n",
      "9\n",
      "10\n",
      "11\n",
      "12\n",
      "13\n",
      "14\n",
      "15\n",
      "16\n",
      "17\n",
      "18\n",
      "19\n",
      "20\n",
      "21\n",
      "22\n",
      "23\n",
      "24\n",
      "25\n",
      "26\n",
      "27\n",
      "28\n",
      "29\n",
      "30\n",
      "31\n",
      "32\n",
      "33\n",
      "34\n",
      "35\n",
      "36\n",
      "37\n",
      "38\n",
      "39\n",
      "40\n",
      "41\n",
      "42\n",
      "43\n",
      "44\n",
      "45\n"
     ]
    }
   ],
   "source": [
    "i=0\n",
    "while(i<45):\n",
    "    print(i+1)\n",
    "    i=i+1"
   ]
  },
  {
   "cell_type": "code",
   "execution_count": 18,
   "id": "32c39cfd",
   "metadata": {},
   "outputs": [
    {
     "name": "stdout",
     "output_type": "stream",
     "text": [
      "1 2 3 4 5 6 7 8 9 10 11 12 13 14 15 16 17 18 19 20 21 22 23 24 25 26 27 28 29 30 31 32 33 34 35 36 37 38 39 40 41 42 43 44 45 "
     ]
    }
   ],
   "source": [
    "i=0\n",
    "while(i<45):\n",
    "    print(i+1, end=\" \")\n",
    "    i=i+1"
   ]
  },
  {
   "cell_type": "code",
   "execution_count": 19,
   "id": "cf8642d9",
   "metadata": {},
   "outputs": [
    {
     "name": "stdout",
     "output_type": "stream",
     "text": [
      "How many beer you want8\n",
      "Beer\n",
      "Beer\n",
      "Beer\n",
      "Beer\n",
      "Beer\n",
      "Beer\n",
      "Beer\n",
      "Beer\n"
     ]
    }
   ],
   "source": [
    "y=int(input(\"How many beer you want\"))\n",
    "i=1\n",
    "while i<=y:\n",
    "    print(\"Beer\")\n",
    "    i=i+1"
   ]
  },
  {
   "cell_type": "code",
   "execution_count": 21,
   "id": "5bca54ef",
   "metadata": {},
   "outputs": [
    {
     "name": "stdout",
     "output_type": "stream",
     "text": [
      "How many beer you want6\n",
      "Beer\n",
      "Beer\n",
      "Beer\n",
      "Beer\n",
      "Beer\n",
      "Itna hi hai\n",
      "Auf wiedersehen\n"
     ]
    }
   ],
   "source": [
    "a=5\n",
    "y=int(input(\"How many beer you want\"))\n",
    "i=1\n",
    "while i<=y:\n",
    "    if i>a:\n",
    "        print(\"Itna hi hai\")\n",
    "        break\n",
    "    print(\"Beer\")\n",
    "    i=i+1\n",
    "print(\"Auf wiedersehen\")"
   ]
  },
  {
   "cell_type": "code",
   "execution_count": 22,
   "id": "5f69d711",
   "metadata": {},
   "outputs": [
    {
     "name": "stdout",
     "output_type": "stream",
     "text": [
      "Hello 0\n",
      "Hello 1\n",
      "Hello 2\n",
      "Hello 3\n",
      "Hello 4\n"
     ]
    }
   ],
   "source": [
    "for i in range(5):\n",
    "    print(\"Hello\", i)"
   ]
  },
  {
   "cell_type": "code",
   "execution_count": 24,
   "id": "8f91e9d0",
   "metadata": {},
   "outputs": [
    {
     "name": "stdout",
     "output_type": "stream",
     "text": [
      "Hello 0\n",
      "Hello 1\n",
      "Hello 2\n",
      "Hello 4\n"
     ]
    }
   ],
   "source": [
    "for i in range(5):\n",
    "    if i==3:\n",
    "        continue\n",
    "    print(\"Hello\", i)"
   ]
  },
  {
   "cell_type": "code",
   "execution_count": 25,
   "id": "d871e465",
   "metadata": {},
   "outputs": [
    {
     "name": "stdout",
     "output_type": "stream",
     "text": [
      "Hello 0\n",
      "Hello 1\n",
      "Hello 2\n"
     ]
    }
   ],
   "source": [
    "for i in range(5):\n",
    "    if i==3:\n",
    "        break\n",
    "    print(\"Hello\", i)"
   ]
  },
  {
   "cell_type": "code",
   "execution_count": 26,
   "id": "d02e005b",
   "metadata": {},
   "outputs": [
    {
     "name": "stdout",
     "output_type": "stream",
     "text": [
      "Hello 0\n",
      "Hello 1\n",
      "Hello 2\n"
     ]
    }
   ],
   "source": [
    "for i in range(5):\n",
    "    if i==3:\n",
    "        break\n",
    "    print(\"Hello\", i)\n",
    "def func():\n",
    "    pass\n",
    "if i==4:\n",
    "    pass"
   ]
  },
  {
   "cell_type": "code",
   "execution_count": 27,
   "id": "90172f88",
   "metadata": {},
   "outputs": [
    {
     "name": "stdout",
     "output_type": "stream",
     "text": [
      "5+6 is 11\n",
      "5*6 is 30\n",
      "2**2 is 4\n",
      "15/3 is 5.0\n",
      "15//3 is 5\n"
     ]
    }
   ],
   "source": [
    "print(\"5+6 is\", 5+6)\n",
    "print(\"5*6 is\", 5*6)\n",
    "print(\"2**2 is\", 2**2)\n",
    "print(\"15/3 is\", 15/3)\n",
    "print(\"15//3 is\", 15//3)"
   ]
  },
  {
   "cell_type": "code",
   "execution_count": 28,
   "id": "b96ac09c",
   "metadata": {},
   "outputs": [
    {
     "name": "stdout",
     "output_type": "stream",
     "text": [
      "5\n",
      "10\n"
     ]
    }
   ],
   "source": [
    "x=5\n",
    "print(x)\n",
    "y=5+x\n",
    "print(y)"
   ]
  },
  {
   "cell_type": "code",
   "execution_count": 29,
   "id": "48a5e3b0",
   "metadata": {},
   "outputs": [
    {
     "name": "stdout",
     "output_type": "stream",
     "text": [
      "True\n"
     ]
    }
   ],
   "source": [
    "i=5\n",
    "print(i==5)"
   ]
  },
  {
   "cell_type": "code",
   "execution_count": 30,
   "id": "9e9ca7be",
   "metadata": {},
   "outputs": [
    {
     "name": "stdout",
     "output_type": "stream",
     "text": [
      "False\n"
     ]
    }
   ],
   "source": [
    "i=5\n",
    "print(i>5)"
   ]
  },
  {
   "cell_type": "code",
   "execution_count": 31,
   "id": "fbd28e24",
   "metadata": {},
   "outputs": [
    {
     "name": "stdout",
     "output_type": "stream",
     "text": [
      "True\n"
     ]
    }
   ],
   "source": [
    "a=True\n",
    "b=False\n",
    "print( a and a)"
   ]
  },
  {
   "cell_type": "code",
   "execution_count": 36,
   "id": "67dd4a74",
   "metadata": {},
   "outputs": [
    {
     "name": "stdout",
     "output_type": "stream",
     "text": [
      "False\n",
      "False\n"
     ]
    }
   ],
   "source": [
    "a=True\n",
    "b=False\n",
    "print( a and b)\n",
    "print(b and a)"
   ]
  },
  {
   "cell_type": "code",
   "execution_count": 37,
   "id": "5dd759c8",
   "metadata": {},
   "outputs": [
    {
     "name": "stdout",
     "output_type": "stream",
     "text": [
      "True\n",
      "False\n",
      "True\n"
     ]
    },
    {
     "name": "stderr",
     "output_type": "stream",
     "text": [
      "<>:3: SyntaxWarning: \"is\" with a literal. Did you mean \"==\"?\n",
      "<>:4: SyntaxWarning: \"is\" with a literal. Did you mean \"==\"?\n",
      "<>:5: SyntaxWarning: \"is not\" with a literal. Did you mean \"!=\"?\n",
      "<>:3: SyntaxWarning: \"is\" with a literal. Did you mean \"==\"?\n",
      "<>:4: SyntaxWarning: \"is\" with a literal. Did you mean \"==\"?\n",
      "<>:5: SyntaxWarning: \"is not\" with a literal. Did you mean \"!=\"?\n",
      "/var/folders/0m/18x3dtwx7296ysm9t1g093x80000gn/T/ipykernel_8638/1814040710.py:3: SyntaxWarning: \"is\" with a literal. Did you mean \"==\"?\n",
      "  print(5 is 5)\n",
      "/var/folders/0m/18x3dtwx7296ysm9t1g093x80000gn/T/ipykernel_8638/1814040710.py:4: SyntaxWarning: \"is\" with a literal. Did you mean \"==\"?\n",
      "  print(5 is 6)\n",
      "/var/folders/0m/18x3dtwx7296ysm9t1g093x80000gn/T/ipykernel_8638/1814040710.py:5: SyntaxWarning: \"is not\" with a literal. Did you mean \"!=\"?\n",
      "  print(5 is not 6)\n"
     ]
    }
   ],
   "source": [
    "a= True\n",
    "b= False\n",
    "print(5 is 5)\n",
    "print(5 is 6)\n",
    "print(5 is not 6)"
   ]
  },
  {
   "cell_type": "code",
   "execution_count": 38,
   "id": "8489c57d",
   "metadata": {},
   "outputs": [
    {
     "name": "stdout",
     "output_type": "stream",
     "text": [
      "True\n",
      "False\n",
      "True\n"
     ]
    }
   ],
   "source": [
    "list=[3,4,5,9,13, 19]\n",
    "print(19 in list)\n",
    "print(101 in list)\n",
    "print(109 not in list)"
   ]
  },
  {
   "cell_type": "code",
   "execution_count": 40,
   "id": "febfbb38",
   "metadata": {},
   "outputs": [
    {
     "name": "stdout",
     "output_type": "stream",
     "text": [
      "17\n"
     ]
    }
   ],
   "source": [
    "N=\"Khawar is awesome\"\n",
    "L=len(N)\n",
    "print(L)"
   ]
  },
  {
   "cell_type": "code",
   "execution_count": 41,
   "id": "faf606f7",
   "metadata": {},
   "outputs": [
    {
     "name": "stdout",
     "output_type": "stream",
     "text": [
      "K\n",
      "h\n",
      "a\n",
      "w\n",
      "a\n",
      "r\n",
      " \n",
      "i\n",
      "s\n",
      " \n",
      "a\n",
      "w\n",
      "e\n",
      "s\n",
      "o\n",
      "m\n",
      "e\n"
     ]
    }
   ],
   "source": [
    "N=\"Khawar is awesome\"\n",
    "L=len(N)\n",
    "for a in range(L):\n",
    "    print(N[a])"
   ]
  },
  {
   "cell_type": "code",
   "execution_count": 42,
   "id": "481ed34a",
   "metadata": {},
   "outputs": [
    {
     "name": "stdout",
     "output_type": "stream",
     "text": [
      "a\n",
      "a\n",
      "a\n",
      "a\n",
      "a\n",
      "a\n",
      "a\n",
      "a\n",
      "a\n",
      "a\n",
      "a\n",
      "a\n",
      "a\n",
      "a\n",
      "a\n",
      "a\n",
      "a\n"
     ]
    }
   ],
   "source": [
    "N=\"Khawar is awesome\"\n",
    "L=len(N)\n",
    "for a in range(L):\n",
    "    print(N[2])"
   ]
  },
  {
   "cell_type": "code",
   "execution_count": 43,
   "id": "a3145fe4",
   "metadata": {},
   "outputs": [
    {
     "name": "stdout",
     "output_type": "stream",
     "text": [
      "e\n",
      "m\n",
      "o\n",
      "s\n",
      "e\n",
      "w\n",
      "a\n",
      " \n",
      "s\n",
      "i\n",
      " \n",
      "r\n",
      "a\n",
      "w\n",
      "a\n",
      "h\n",
      "K\n"
     ]
    }
   ],
   "source": [
    "N=\"Khawar is awesome\"\n",
    "L=len(N)\n",
    "for a in range(L-1,-1, -1):\n",
    "    print(N[a])"
   ]
  },
  {
   "cell_type": "code",
   "execution_count": 44,
   "id": "faaa2488",
   "metadata": {},
   "outputs": [
    {
     "name": "stdout",
     "output_type": "stream",
     "text": [
      "K\n",
      "h\n",
      "a\n",
      "w\n",
      "a\n",
      "r\n",
      " \n",
      "i\n",
      "s\n",
      " \n",
      "a\n",
      "w\n",
      "e\n",
      "s\n",
      "o\n",
      "m\n",
      "e\n"
     ]
    }
   ],
   "source": [
    "N=\"Khawar is awesome\"\n",
    "for a in N:\n",
    "    print(a)"
   ]
  },
  {
   "cell_type": "code",
   "execution_count": 47,
   "id": "51613dcc",
   "metadata": {},
   "outputs": [
    {
     "name": "stdout",
     "output_type": "stream",
     "text": [
      "Apfel Banana\n"
     ]
    }
   ],
   "source": [
    "list_1=[\"Apfel\",\"Orange\",\"Banana\",\"Kirsche\"]\n",
    "print(list_1[0], list_1[2])"
   ]
  },
  {
   "cell_type": "code",
   "execution_count": 48,
   "id": "4b27696d",
   "metadata": {},
   "outputs": [
    {
     "name": "stdout",
     "output_type": "stream",
     "text": [
      "Apfel\n",
      "Orange\n",
      "Banana\n",
      "Kirsche\n"
     ]
    }
   ],
   "source": [
    "for item in list_1:\n",
    "    print(item)"
   ]
  },
  {
   "cell_type": "code",
   "execution_count": 49,
   "id": "ebc095f6",
   "metadata": {},
   "outputs": [
    {
     "name": "stdout",
     "output_type": "stream",
     "text": [
      "Apfel toffee is 1\n",
      "Orange toffee is 3\n",
      "Banana toffee is 5\n",
      "Kirsche toffee is 7\n"
     ]
    }
   ],
   "source": [
    "list_2=[[\"Apfel\", 1], [\"Orange\", 3], [\"Banana\", 5], [\"Kirsche\", 7]]\n",
    "for item, toffee in list_2:\n",
    "    print(item,\"toffee is\", toffee) "
   ]
  },
  {
   "cell_type": "code",
   "execution_count": 50,
   "id": "9ae16ee9",
   "metadata": {},
   "outputs": [
    {
     "name": "stdout",
     "output_type": "stream",
     "text": [
      "Apfel\n",
      "Orange\n",
      "Banana\n",
      "Kirsche\n"
     ]
    }
   ],
   "source": [
    "list_3=[[\"Apfel\", 1], [\"Orange\", 3], [\"Banana\", 5], [\"Kirsche\", 7]]\n",
    "dict1=dict(list_3)\n",
    "for item in dict1:\n",
    "    print(item)"
   ]
  },
  {
   "cell_type": "code",
   "execution_count": 52,
   "id": "66458a8a",
   "metadata": {},
   "outputs": [
    {
     "name": "stdout",
     "output_type": "stream",
     "text": [
      "Apfel toffee is 1\n",
      "Orange toffee is 3\n",
      "Banana toffee is 5\n",
      "Kirsche toffee is 7\n"
     ]
    }
   ],
   "source": [
    "list_4=[[\"Apfel\", 1], [\"Orange\", 3], [\"Banana\", 5], [\"Kirsche\", 7]]\n",
    "dict1=dict(list_3)\n",
    "for item, toffee in dict1.items():\n",
    "    print(item,\"toffee is\", toffee)"
   ]
  },
  {
   "cell_type": "code",
   "execution_count": 54,
   "id": "afc77300",
   "metadata": {},
   "outputs": [
    {
     "name": "stdout",
     "output_type": "stream",
     "text": [
      "0\n",
      "1\n",
      "2\n",
      "3\n"
     ]
    }
   ],
   "source": [
    "n = 4\n",
    "for i in range(0, n):\n",
    "    print(i)"
   ]
  },
  {
   "cell_type": "code",
   "execution_count": null,
   "id": "52b3f35b",
   "metadata": {},
   "outputs": [],
   "source": []
  }
 ],
 "metadata": {
  "kernelspec": {
   "display_name": "Python 3 (ipykernel)",
   "language": "python",
   "name": "python3"
  },
  "language_info": {
   "codemirror_mode": {
    "name": "ipython",
    "version": 3
   },
   "file_extension": ".py",
   "mimetype": "text/x-python",
   "name": "python",
   "nbconvert_exporter": "python",
   "pygments_lexer": "ipython3",
   "version": "3.10.9"
  }
 },
 "nbformat": 4,
 "nbformat_minor": 5
}
